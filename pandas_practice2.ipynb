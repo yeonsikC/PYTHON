{
  "nbformat": 4,
  "nbformat_minor": 0,
  "metadata": {
    "colab": {
      "name": "pandas-practice2.ipynb",
      "version": "0.3.2",
      "provenance": [],
      "collapsed_sections": [],
      "include_colab_link": true
    },
    "kernelspec": {
      "name": "python3",
      "display_name": "Python 3"
    }
  },
  "cells": [
    {
      "cell_type": "markdown",
      "metadata": {
        "id": "view-in-github",
        "colab_type": "text"
      },
      "source": [
        "<a href=\"https://colab.research.google.com/github/yeonsikC/PYTHON/blob/master/pandas_practice2.ipynb\" target=\"_parent\"><img src=\"https://colab.research.google.com/assets/colab-badge.svg\" alt=\"Open In Colab\"/></a>"
      ]
    },
    {
      "cell_type": "code",
      "metadata": {
        "id": "qYIMbUzWVPul",
        "colab_type": "code",
        "outputId": "97089e40-b7f7-402f-d58e-693d63680137",
        "colab": {
          "base_uri": "https://localhost:8080/",
          "height": 125
        }
      },
      "source": [
        "from google.colab import drive\n",
        "drive.mount('/content/drive')"
      ],
      "execution_count": 3,
      "outputs": [
        {
          "output_type": "stream",
          "text": [
            "Go to this URL in a browser: https://accounts.google.com/o/oauth2/auth?client_id=947318989803-6bn6qk8qdgf4n4g3pfee6491hc0brc4i.apps.googleusercontent.com&redirect_uri=urn%3Aietf%3Awg%3Aoauth%3A2.0%3Aoob&scope=email%20https%3A%2F%2Fwww.googleapis.com%2Fauth%2Fdocs.test%20https%3A%2F%2Fwww.googleapis.com%2Fauth%2Fdrive%20https%3A%2F%2Fwww.googleapis.com%2Fauth%2Fdrive.photos.readonly%20https%3A%2F%2Fwww.googleapis.com%2Fauth%2Fpeopleapi.readonly&response_type=code\n",
            "\n",
            "Enter your authorization code:\n",
            "··········\n",
            "Mounted at /content/drive\n"
          ],
          "name": "stdout"
        }
      ]
    },
    {
      "cell_type": "code",
      "metadata": {
        "id": "vLEbZDozWnaL",
        "colab_type": "code",
        "colab": {}
      },
      "source": [
        "import pandas as pd\n",
        "import numpy as np\n",
        "import csv"
      ],
      "execution_count": 0,
      "outputs": []
    },
    {
      "cell_type": "markdown",
      "metadata": {
        "id": "eMTDMCizvrJI",
        "colab_type": "text"
      },
      "source": [
        "# 24시간 강수 데이터\n",
        "\n",
        "1.   필요한 변수만 데이터프레임 형식으로 저장.\n",
        "2.   24시간 누적 강수 데이터를 기준으로, 24시간동안 비가 가장 많이 내린 지역과, 가장 적게 내린 지역을 나타낸다.\n",
        "\n"
      ]
    },
    {
      "cell_type": "code",
      "metadata": {
        "id": "TIAh1nFdVQj2",
        "colab_type": "code",
        "outputId": "947b1fcb-03f2-490d-ba09-e3b220efb8d3",
        "colab": {
          "base_uri": "https://localhost:8080/",
          "height": 298
        }
      },
      "source": [
        "dataset = []\n",
        "with open('/content/drive/My Drive/Colab Notebooks/datas/강우량+기상정보+(2017년+09월+10일+00_00+_+05_59).csv','r') as f:\n",
        "  line = csv.reader(f)\n",
        "  for row in line:\n",
        "    dataset.append(row)\n",
        "df = pd.DataFrame(dataset)\n",
        "df.dtypes"
      ],
      "execution_count": 16,
      "outputs": [
        {
          "output_type": "execute_result",
          "data": {
            "text/plain": [
              "0     object\n",
              "1     object\n",
              "2     object\n",
              "3     object\n",
              "4     object\n",
              "5     object\n",
              "6     object\n",
              "7     object\n",
              "8     object\n",
              "9     object\n",
              "10    object\n",
              "11    object\n",
              "12    object\n",
              "13    object\n",
              "14    object\n",
              "dtype: object"
            ]
          },
          "metadata": {
            "tags": []
          },
          "execution_count": 16
        }
      ]
    },
    {
      "cell_type": "code",
      "metadata": {
        "id": "Rd0MOxj1nkt1",
        "colab_type": "code",
        "outputId": "ffe1b805-4eeb-4bb6-c211-b7832cb20e8b",
        "colab": {
          "base_uri": "https://localhost:8080/",
          "height": 195
        }
      },
      "source": [
        "df = pd.DataFrame(dataset[1:], columns = dataset[0])\n",
        "df.head()"
      ],
      "execution_count": 17,
      "outputs": [
        {
          "output_type": "execute_result",
          "data": {
            "text/html": [
              "<div>\n",
              "<style scoped>\n",
              "    .dataframe tbody tr th:only-of-type {\n",
              "        vertical-align: middle;\n",
              "    }\n",
              "\n",
              "    .dataframe tbody tr th {\n",
              "        vertical-align: top;\n",
              "    }\n",
              "\n",
              "    .dataframe thead th {\n",
              "        text-align: right;\n",
              "    }\n",
              "</style>\n",
              "<table border=\"1\" class=\"dataframe\">\n",
              "  <thead>\n",
              "    <tr style=\"text-align: right;\">\n",
              "      <th></th>\n",
              "      <th>﻿\"CHNL_ID\"</th>\n",
              "      <th>STN_ID</th>\n",
              "      <th>AWS_DTM</th>\n",
              "      <th>SKY_CODE_ID</th>\n",
              "      <th>RN_DAY</th>\n",
              "      <th>RN_1HR</th>\n",
              "      <th>RNM_10M</th>\n",
              "      <th>RNM_30M</th>\n",
              "      <th>RNM_60M</th>\n",
              "      <th>RNM_6HR</th>\n",
              "      <th>RNM_12HR</th>\n",
              "      <th>RNM_24HR</th>\n",
              "      <th>PA</th>\n",
              "      <th>PS</th>\n",
              "      <th>PTY_CD</th>\n",
              "    </tr>\n",
              "  </thead>\n",
              "  <tbody>\n",
              "    <tr>\n",
              "      <th>0</th>\n",
              "      <td>KMA</td>\n",
              "      <td>92</td>\n",
              "      <td>2017-09-10 0:00</td>\n",
              "      <td></td>\n",
              "      <td>0</td>\n",
              "      <td>0</td>\n",
              "      <td>0</td>\n",
              "      <td>0</td>\n",
              "      <td>0</td>\n",
              "      <td>0</td>\n",
              "      <td>0</td>\n",
              "      <td></td>\n",
              "      <td></td>\n",
              "      <td>0</td>\n",
              "      <td>0</td>\n",
              "    </tr>\n",
              "    <tr>\n",
              "      <th>1</th>\n",
              "      <td>KMA</td>\n",
              "      <td>95</td>\n",
              "      <td>2017-09-10 0:00</td>\n",
              "      <td>0</td>\n",
              "      <td>0</td>\n",
              "      <td>0</td>\n",
              "      <td>0</td>\n",
              "      <td>0</td>\n",
              "      <td>0</td>\n",
              "      <td>0</td>\n",
              "      <td>0</td>\n",
              "      <td>996.5</td>\n",
              "      <td>1014.5</td>\n",
              "      <td>0</td>\n",
              "      <td>0</td>\n",
              "    </tr>\n",
              "    <tr>\n",
              "      <th>2</th>\n",
              "      <td>KMA</td>\n",
              "      <td>96</td>\n",
              "      <td>2017-09-10 0:00</td>\n",
              "      <td>0</td>\n",
              "      <td>0</td>\n",
              "      <td>0</td>\n",
              "      <td>0</td>\n",
              "      <td>0</td>\n",
              "      <td>0</td>\n",
              "      <td>0</td>\n",
              "      <td>0</td>\n",
              "      <td>1003.7</td>\n",
              "      <td>1014.7</td>\n",
              "      <td>0</td>\n",
              "      <td>0</td>\n",
              "    </tr>\n",
              "    <tr>\n",
              "      <th>3</th>\n",
              "      <td>KMA</td>\n",
              "      <td>98</td>\n",
              "      <td>2017-09-10 0:00</td>\n",
              "      <td>0</td>\n",
              "      <td>0</td>\n",
              "      <td>0</td>\n",
              "      <td>0</td>\n",
              "      <td>0</td>\n",
              "      <td>0</td>\n",
              "      <td>0</td>\n",
              "      <td>0</td>\n",
              "      <td>1001.2</td>\n",
              "      <td>1014.3</td>\n",
              "      <td>0</td>\n",
              "      <td>0</td>\n",
              "    </tr>\n",
              "    <tr>\n",
              "      <th>4</th>\n",
              "      <td>KMA</td>\n",
              "      <td>99</td>\n",
              "      <td>2017-09-10 0:00</td>\n",
              "      <td>0</td>\n",
              "      <td>0</td>\n",
              "      <td>0</td>\n",
              "      <td>0</td>\n",
              "      <td>0</td>\n",
              "      <td>0</td>\n",
              "      <td>0</td>\n",
              "      <td>0</td>\n",
              "      <td>1010.7</td>\n",
              "      <td>1014.1</td>\n",
              "      <td>0</td>\n",
              "      <td>0</td>\n",
              "    </tr>\n",
              "  </tbody>\n",
              "</table>\n",
              "</div>"
            ],
            "text/plain": [
              "  ﻿\"CHNL_ID\" STN_ID          AWS_DTM SKY_CODE_ID  ... RNM_24HR      PA PS PTY_CD\n",
              "0        KMA     92  2017-09-10 0:00              ...                   0      0\n",
              "1        KMA     95  2017-09-10 0:00           0  ...    996.5  1014.5  0      0\n",
              "2        KMA     96  2017-09-10 0:00           0  ...   1003.7  1014.7  0      0\n",
              "3        KMA     98  2017-09-10 0:00           0  ...   1001.2  1014.3  0      0\n",
              "4        KMA     99  2017-09-10 0:00           0  ...   1010.7  1014.1  0      0\n",
              "\n",
              "[5 rows x 15 columns]"
            ]
          },
          "metadata": {
            "tags": []
          },
          "execution_count": 17
        }
      ]
    },
    {
      "cell_type": "code",
      "metadata": {
        "id": "QTlisL-qopuh",
        "colab_type": "code",
        "outputId": "8370d9cc-04f7-488b-d040-bde69ab58947",
        "colab": {
          "base_uri": "https://localhost:8080/",
          "height": 34
        }
      },
      "source": [
        "my = pd.DataFrame(df, columns=[\"STN_ID\", \"AWS_DTM\", \"RNM_24HR\"])\n",
        "my_clean = my[my.RNM_24HR.notnull()]\n",
        "my_clean\n",
        "my_clean.sort_values(by=\"RNM_24HR\", ascending=False)"
      ],
      "execution_count": 25,
      "outputs": [
        {
          "output_type": "stream",
          "text": [
            "5\n"
          ],
          "name": "stdout"
        }
      ]
    },
    {
      "cell_type": "code",
      "metadata": {
        "id": "k8irtczHrvpB",
        "colab_type": "code",
        "colab": {
          "base_uri": "https://localhost:8080/",
          "height": 195
        },
        "outputId": "2e1ffcc2-beb5-4e5a-dc2e-13554d02cdfe"
      },
      "source": [
        "notnull = my_clean[my_clean.RNM_24HR!=\"\"]\n",
        "notnull.head()"
      ],
      "execution_count": 35,
      "outputs": [
        {
          "output_type": "execute_result",
          "data": {
            "text/html": [
              "<div>\n",
              "<style scoped>\n",
              "    .dataframe tbody tr th:only-of-type {\n",
              "        vertical-align: middle;\n",
              "    }\n",
              "\n",
              "    .dataframe tbody tr th {\n",
              "        vertical-align: top;\n",
              "    }\n",
              "\n",
              "    .dataframe thead th {\n",
              "        text-align: right;\n",
              "    }\n",
              "</style>\n",
              "<table border=\"1\" class=\"dataframe\">\n",
              "  <thead>\n",
              "    <tr style=\"text-align: right;\">\n",
              "      <th></th>\n",
              "      <th>STN_ID</th>\n",
              "      <th>AWS_DTM</th>\n",
              "      <th>RNM_24HR</th>\n",
              "    </tr>\n",
              "  </thead>\n",
              "  <tbody>\n",
              "    <tr>\n",
              "      <th>1</th>\n",
              "      <td>95</td>\n",
              "      <td>2017-09-10 0:00</td>\n",
              "      <td>996.5</td>\n",
              "    </tr>\n",
              "    <tr>\n",
              "      <th>2</th>\n",
              "      <td>96</td>\n",
              "      <td>2017-09-10 0:00</td>\n",
              "      <td>1003.7</td>\n",
              "    </tr>\n",
              "    <tr>\n",
              "      <th>3</th>\n",
              "      <td>98</td>\n",
              "      <td>2017-09-10 0:00</td>\n",
              "      <td>1001.2</td>\n",
              "    </tr>\n",
              "    <tr>\n",
              "      <th>4</th>\n",
              "      <td>99</td>\n",
              "      <td>2017-09-10 0:00</td>\n",
              "      <td>1010.7</td>\n",
              "    </tr>\n",
              "    <tr>\n",
              "      <th>5</th>\n",
              "      <td>100</td>\n",
              "      <td>2017-09-10 0:00</td>\n",
              "      <td>928.2</td>\n",
              "    </tr>\n",
              "  </tbody>\n",
              "</table>\n",
              "</div>"
            ],
            "text/plain": [
              "  STN_ID          AWS_DTM RNM_24HR\n",
              "1     95  2017-09-10 0:00    996.5\n",
              "2     96  2017-09-10 0:00   1003.7\n",
              "3     98  2017-09-10 0:00   1001.2\n",
              "4     99  2017-09-10 0:00   1010.7\n",
              "5    100  2017-09-10 0:00    928.2"
            ]
          },
          "metadata": {
            "tags": []
          },
          "execution_count": 35
        }
      ]
    },
    {
      "cell_type": "code",
      "metadata": {
        "id": "0GOCaLaEqxtd",
        "colab_type": "code",
        "colab": {
          "base_uri": "https://localhost:8080/",
          "height": 122
        },
        "outputId": "016127f7-6cd0-4036-c388-01f1c1d71d64"
      },
      "source": [
        "rain = notnull.RNM_24HR\n",
        "rain.head()"
      ],
      "execution_count": 49,
      "outputs": [
        {
          "output_type": "execute_result",
          "data": {
            "text/plain": [
              "1     996.5\n",
              "2    1003.7\n",
              "3    1001.2\n",
              "4    1010.7\n",
              "5     928.2\n",
              "Name: RNM_24HR, dtype: object"
            ]
          },
          "metadata": {
            "tags": []
          },
          "execution_count": 49
        }
      ]
    },
    {
      "cell_type": "code",
      "metadata": {
        "id": "C6suf5birScd",
        "colab_type": "code",
        "colab": {}
      },
      "source": [
        "rain_f = pd.Series(rain, dtype=float)"
      ],
      "execution_count": 0,
      "outputs": []
    },
    {
      "cell_type": "code",
      "metadata": {
        "id": "eu9fyfvrsrg9",
        "colab_type": "code",
        "colab": {
          "base_uri": "https://localhost:8080/",
          "height": 122
        },
        "outputId": "3a9d4024-e15a-40d8-9f1b-d2106347a1b4"
      },
      "source": [
        "rain_f.head()"
      ],
      "execution_count": 51,
      "outputs": [
        {
          "output_type": "execute_result",
          "data": {
            "text/plain": [
              "1     996.5\n",
              "2    1003.7\n",
              "3    1001.2\n",
              "4    1010.7\n",
              "5     928.2\n",
              "Name: RNM_24HR, dtype: float64"
            ]
          },
          "metadata": {
            "tags": []
          },
          "execution_count": 51
        }
      ]
    },
    {
      "cell_type": "code",
      "metadata": {
        "id": "y-cPFcgAsulQ",
        "colab_type": "code",
        "colab": {
          "base_uri": "https://localhost:8080/",
          "height": 195
        },
        "outputId": "3ab41b0e-b4a9-4c4a-e535-ba69b93d1f6d"
      },
      "source": [
        "final_data = pd.DataFrame({\"area\":notnull.STN_ID, \"date\":notnull.AWS_DTM, \"rain24\":rain_f})\n",
        "final_data.head()"
      ],
      "execution_count": 53,
      "outputs": [
        {
          "output_type": "execute_result",
          "data": {
            "text/html": [
              "<div>\n",
              "<style scoped>\n",
              "    .dataframe tbody tr th:only-of-type {\n",
              "        vertical-align: middle;\n",
              "    }\n",
              "\n",
              "    .dataframe tbody tr th {\n",
              "        vertical-align: top;\n",
              "    }\n",
              "\n",
              "    .dataframe thead th {\n",
              "        text-align: right;\n",
              "    }\n",
              "</style>\n",
              "<table border=\"1\" class=\"dataframe\">\n",
              "  <thead>\n",
              "    <tr style=\"text-align: right;\">\n",
              "      <th></th>\n",
              "      <th>area</th>\n",
              "      <th>date</th>\n",
              "      <th>rain24</th>\n",
              "    </tr>\n",
              "  </thead>\n",
              "  <tbody>\n",
              "    <tr>\n",
              "      <th>1</th>\n",
              "      <td>95</td>\n",
              "      <td>2017-09-10 0:00</td>\n",
              "      <td>996.5</td>\n",
              "    </tr>\n",
              "    <tr>\n",
              "      <th>2</th>\n",
              "      <td>96</td>\n",
              "      <td>2017-09-10 0:00</td>\n",
              "      <td>1003.7</td>\n",
              "    </tr>\n",
              "    <tr>\n",
              "      <th>3</th>\n",
              "      <td>98</td>\n",
              "      <td>2017-09-10 0:00</td>\n",
              "      <td>1001.2</td>\n",
              "    </tr>\n",
              "    <tr>\n",
              "      <th>4</th>\n",
              "      <td>99</td>\n",
              "      <td>2017-09-10 0:00</td>\n",
              "      <td>1010.7</td>\n",
              "    </tr>\n",
              "    <tr>\n",
              "      <th>5</th>\n",
              "      <td>100</td>\n",
              "      <td>2017-09-10 0:00</td>\n",
              "      <td>928.2</td>\n",
              "    </tr>\n",
              "  </tbody>\n",
              "</table>\n",
              "</div>"
            ],
            "text/plain": [
              "  area             date  rain24\n",
              "1   95  2017-09-10 0:00   996.5\n",
              "2   96  2017-09-10 0:00  1003.7\n",
              "3   98  2017-09-10 0:00  1001.2\n",
              "4   99  2017-09-10 0:00  1010.7\n",
              "5  100  2017-09-10 0:00   928.2"
            ]
          },
          "metadata": {
            "tags": []
          },
          "execution_count": 53
        }
      ]
    },
    {
      "cell_type": "code",
      "metadata": {
        "id": "JotI_ORbtB9m",
        "colab_type": "code",
        "colab": {
          "base_uri": "https://localhost:8080/",
          "height": 195
        },
        "outputId": "8a5c372e-d6eb-4fee-f1d7-5086cdcc43e5"
      },
      "source": [
        "final_data.sort_values(by='rain24', ascending = False).head()"
      ],
      "execution_count": 86,
      "outputs": [
        {
          "output_type": "execute_result",
          "data": {
            "text/html": [
              "<div>\n",
              "<style scoped>\n",
              "    .dataframe tbody tr th:only-of-type {\n",
              "        vertical-align: middle;\n",
              "    }\n",
              "\n",
              "    .dataframe tbody tr th {\n",
              "        vertical-align: top;\n",
              "    }\n",
              "\n",
              "    .dataframe thead th {\n",
              "        text-align: right;\n",
              "    }\n",
              "</style>\n",
              "<table border=\"1\" class=\"dataframe\">\n",
              "  <thead>\n",
              "    <tr style=\"text-align: right;\">\n",
              "      <th></th>\n",
              "      <th>area</th>\n",
              "      <th>date</th>\n",
              "      <th>rain24</th>\n",
              "    </tr>\n",
              "  </thead>\n",
              "  <tbody>\n",
              "    <tr>\n",
              "      <th>369057</th>\n",
              "      <td>661</td>\n",
              "      <td>2017-09-10 9:17</td>\n",
              "      <td>1016.1</td>\n",
              "    </tr>\n",
              "    <tr>\n",
              "      <th>387621</th>\n",
              "      <td>661</td>\n",
              "      <td>2017-09-10 9:45</td>\n",
              "      <td>1016.0</td>\n",
              "    </tr>\n",
              "    <tr>\n",
              "      <th>366405</th>\n",
              "      <td>661</td>\n",
              "      <td>2017-09-10 9:13</td>\n",
              "      <td>1016.0</td>\n",
              "    </tr>\n",
              "    <tr>\n",
              "      <th>369720</th>\n",
              "      <td>661</td>\n",
              "      <td>2017-09-10 9:18</td>\n",
              "      <td>1016.0</td>\n",
              "    </tr>\n",
              "    <tr>\n",
              "      <th>371046</th>\n",
              "      <td>661</td>\n",
              "      <td>2017-09-10 9:20</td>\n",
              "      <td>1016.0</td>\n",
              "    </tr>\n",
              "  </tbody>\n",
              "</table>\n",
              "</div>"
            ],
            "text/plain": [
              "       area             date  rain24\n",
              "369057  661  2017-09-10 9:17  1016.1\n",
              "387621  661  2017-09-10 9:45  1016.0\n",
              "366405  661  2017-09-10 9:13  1016.0\n",
              "369720  661  2017-09-10 9:18  1016.0\n",
              "371046  661  2017-09-10 9:20  1016.0"
            ]
          },
          "metadata": {
            "tags": []
          },
          "execution_count": 86
        }
      ]
    },
    {
      "cell_type": "code",
      "metadata": {
        "id": "mBvjpgd_tZ_4",
        "colab_type": "code",
        "colab": {
          "base_uri": "https://localhost:8080/",
          "height": 94
        },
        "outputId": "bd3a17a4-36d9-4505-ebce-4ab0dbf39ac3"
      },
      "source": [
        "max_val = final_data.sort_values(by='rain24', ascending = False)\n",
        "print(\"2017년 9월 10일의 24시간 누적 강수량 중 가장 많이 내린 지역ID와 그 기준시각은 아래와 같다.\")\n",
        "max_val[:1]"
      ],
      "execution_count": 88,
      "outputs": [
        {
          "output_type": "stream",
          "text": [
            "2017년 9월 10일의 24시간 누적 강수량 중 가장 많이 내린 지역과 그 기준시각은 아래와 같다.\n"
          ],
          "name": "stdout"
        },
        {
          "output_type": "execute_result",
          "data": {
            "text/html": [
              "<div>\n",
              "<style scoped>\n",
              "    .dataframe tbody tr th:only-of-type {\n",
              "        vertical-align: middle;\n",
              "    }\n",
              "\n",
              "    .dataframe tbody tr th {\n",
              "        vertical-align: top;\n",
              "    }\n",
              "\n",
              "    .dataframe thead th {\n",
              "        text-align: right;\n",
              "    }\n",
              "</style>\n",
              "<table border=\"1\" class=\"dataframe\">\n",
              "  <thead>\n",
              "    <tr style=\"text-align: right;\">\n",
              "      <th></th>\n",
              "      <th>area</th>\n",
              "      <th>date</th>\n",
              "      <th>rain24</th>\n",
              "    </tr>\n",
              "  </thead>\n",
              "  <tbody>\n",
              "    <tr>\n",
              "      <th>369057</th>\n",
              "      <td>661</td>\n",
              "      <td>2017-09-10 9:17</td>\n",
              "      <td>1016.1</td>\n",
              "    </tr>\n",
              "  </tbody>\n",
              "</table>\n",
              "</div>"
            ],
            "text/plain": [
              "       area             date  rain24\n",
              "369057  661  2017-09-10 9:17  1016.1"
            ]
          },
          "metadata": {
            "tags": []
          },
          "execution_count": 88
        }
      ]
    },
    {
      "cell_type": "code",
      "metadata": {
        "id": "H1VTPOA2ug42",
        "colab_type": "code",
        "colab": {
          "base_uri": "https://localhost:8080/",
          "height": 195
        },
        "outputId": "4ae4772c-ff96-4588-bbb6-c2cb014587f1"
      },
      "source": [
        "final_data.sort_values(by='rain24').head()"
      ],
      "execution_count": 70,
      "outputs": [
        {
          "output_type": "execute_result",
          "data": {
            "text/html": [
              "<div>\n",
              "<style scoped>\n",
              "    .dataframe tbody tr th:only-of-type {\n",
              "        vertical-align: middle;\n",
              "    }\n",
              "\n",
              "    .dataframe tbody tr th {\n",
              "        vertical-align: top;\n",
              "    }\n",
              "\n",
              "    .dataframe thead th {\n",
              "        text-align: right;\n",
              "    }\n",
              "</style>\n",
              "<table border=\"1\" class=\"dataframe\">\n",
              "  <thead>\n",
              "    <tr style=\"text-align: right;\">\n",
              "      <th></th>\n",
              "      <th>area</th>\n",
              "      <th>date</th>\n",
              "      <th>rain24</th>\n",
              "    </tr>\n",
              "  </thead>\n",
              "  <tbody>\n",
              "    <tr>\n",
              "      <th>771151</th>\n",
              "      <td>189</td>\n",
              "      <td>2017-09-10 19:24</td>\n",
              "      <td>670.5</td>\n",
              "    </tr>\n",
              "    <tr>\n",
              "      <th>919062</th>\n",
              "      <td>314</td>\n",
              "      <td>2017-09-10 23:07</td>\n",
              "      <td>847.6</td>\n",
              "    </tr>\n",
              "    <tr>\n",
              "      <th>921051</th>\n",
              "      <td>314</td>\n",
              "      <td>2017-09-10 23:10</td>\n",
              "      <td>847.6</td>\n",
              "    </tr>\n",
              "    <tr>\n",
              "      <th>921714</th>\n",
              "      <td>314</td>\n",
              "      <td>2017-09-10 23:11</td>\n",
              "      <td>847.6</td>\n",
              "    </tr>\n",
              "    <tr>\n",
              "      <th>894531</th>\n",
              "      <td>314</td>\n",
              "      <td>2017-09-10 22:30</td>\n",
              "      <td>847.7</td>\n",
              "    </tr>\n",
              "  </tbody>\n",
              "</table>\n",
              "</div>"
            ],
            "text/plain": [
              "       area              date  rain24\n",
              "771151  189  2017-09-10 19:24   670.5\n",
              "919062  314  2017-09-10 23:07   847.6\n",
              "921051  314  2017-09-10 23:10   847.6\n",
              "921714  314  2017-09-10 23:11   847.6\n",
              "894531  314  2017-09-10 22:30   847.7"
            ]
          },
          "metadata": {
            "tags": []
          },
          "execution_count": 70
        }
      ]
    },
    {
      "cell_type": "code",
      "metadata": {
        "id": "SYmOyc2kuMaW",
        "colab_type": "code",
        "colab": {
          "base_uri": "https://localhost:8080/",
          "height": 94
        },
        "outputId": "459158ba-7fe8-4018-b543-3a78fec99a4d"
      },
      "source": [
        "min_val = final_data.sort_values(by='rain24')\n",
        "print(\"2017년 9월 10일의 24시간 누적 강수량 중 가장 적게 내린 지역ID와 그 기준시각은 아래와 같다.\")\n",
        "min_val[:1]"
      ],
      "execution_count": 89,
      "outputs": [
        {
          "output_type": "stream",
          "text": [
            "2017년 9월 10일의 24시간 누적 강수량 중 가장 적게 내린 지역ID와 그 기준시각은 아래와 같다.\n"
          ],
          "name": "stdout"
        },
        {
          "output_type": "execute_result",
          "data": {
            "text/html": [
              "<div>\n",
              "<style scoped>\n",
              "    .dataframe tbody tr th:only-of-type {\n",
              "        vertical-align: middle;\n",
              "    }\n",
              "\n",
              "    .dataframe tbody tr th {\n",
              "        vertical-align: top;\n",
              "    }\n",
              "\n",
              "    .dataframe thead th {\n",
              "        text-align: right;\n",
              "    }\n",
              "</style>\n",
              "<table border=\"1\" class=\"dataframe\">\n",
              "  <thead>\n",
              "    <tr style=\"text-align: right;\">\n",
              "      <th></th>\n",
              "      <th>area</th>\n",
              "      <th>date</th>\n",
              "      <th>rain24</th>\n",
              "    </tr>\n",
              "  </thead>\n",
              "  <tbody>\n",
              "    <tr>\n",
              "      <th>771151</th>\n",
              "      <td>189</td>\n",
              "      <td>2017-09-10 19:24</td>\n",
              "      <td>670.5</td>\n",
              "    </tr>\n",
              "  </tbody>\n",
              "</table>\n",
              "</div>"
            ],
            "text/plain": [
              "       area              date  rain24\n",
              "771151  189  2017-09-10 19:24   670.5"
            ]
          },
          "metadata": {
            "tags": []
          },
          "execution_count": 89
        }
      ]
    }
  ]
}